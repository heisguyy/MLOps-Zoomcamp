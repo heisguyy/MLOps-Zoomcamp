{
 "cells": [
  {
   "cell_type": "code",
   "execution_count": 38,
   "id": "7312773a",
   "metadata": {},
   "outputs": [],
   "source": [
    "import warnings\n",
    "warnings.filterwarnings(\"ignore\")\n",
    "\n",
    "import pandas as pd\n",
    "import numpy as np\n",
    "import matplotlib.pyplot as plt\n",
    "import seaborn as sns\n",
    "from sklearn.feature_extraction import DictVectorizer\n",
    "from sklearn.linear_model import LinearRegression\n",
    "from sklearn.metrics import mean_squared_error"
   ]
  },
  {
   "cell_type": "markdown",
   "id": "dc724353",
   "metadata": {},
   "source": [
    "### Question 1"
   ]
  },
  {
   "cell_type": "code",
   "execution_count": 2,
   "id": "38162a6e",
   "metadata": {},
   "outputs": [],
   "source": [
    "jan_df = pd.read_parquet(\"https://nyc-tlc.s3.amazonaws.com/trip+data/fhv_tripdata_2021-01.parquet\")\n",
    "feb_df = pd.read_parquet(\"https://nyc-tlc.s3.amazonaws.com/trip+data/fhv_tripdata_2021-02.parquet\")"
   ]
  },
  {
   "cell_type": "code",
   "execution_count": 3,
   "id": "e1747968",
   "metadata": {},
   "outputs": [
    {
     "data": {
      "text/html": [
       "<div>\n",
       "<style scoped>\n",
       "    .dataframe tbody tr th:only-of-type {\n",
       "        vertical-align: middle;\n",
       "    }\n",
       "\n",
       "    .dataframe tbody tr th {\n",
       "        vertical-align: top;\n",
       "    }\n",
       "\n",
       "    .dataframe thead th {\n",
       "        text-align: right;\n",
       "    }\n",
       "</style>\n",
       "<table border=\"1\" class=\"dataframe\">\n",
       "  <thead>\n",
       "    <tr style=\"text-align: right;\">\n",
       "      <th></th>\n",
       "      <th>dispatching_base_num</th>\n",
       "      <th>pickup_datetime</th>\n",
       "      <th>dropOff_datetime</th>\n",
       "      <th>PUlocationID</th>\n",
       "      <th>DOlocationID</th>\n",
       "      <th>SR_Flag</th>\n",
       "      <th>Affiliated_base_number</th>\n",
       "    </tr>\n",
       "  </thead>\n",
       "  <tbody>\n",
       "    <tr>\n",
       "      <th>0</th>\n",
       "      <td>B00009</td>\n",
       "      <td>2021-01-01 00:27:00</td>\n",
       "      <td>2021-01-01 00:44:00</td>\n",
       "      <td>NaN</td>\n",
       "      <td>NaN</td>\n",
       "      <td>NaN</td>\n",
       "      <td>B00009</td>\n",
       "    </tr>\n",
       "    <tr>\n",
       "      <th>1</th>\n",
       "      <td>B00009</td>\n",
       "      <td>2021-01-01 00:50:00</td>\n",
       "      <td>2021-01-01 01:07:00</td>\n",
       "      <td>NaN</td>\n",
       "      <td>NaN</td>\n",
       "      <td>NaN</td>\n",
       "      <td>B00009</td>\n",
       "    </tr>\n",
       "    <tr>\n",
       "      <th>2</th>\n",
       "      <td>B00013</td>\n",
       "      <td>2021-01-01 00:01:00</td>\n",
       "      <td>2021-01-01 01:51:00</td>\n",
       "      <td>NaN</td>\n",
       "      <td>NaN</td>\n",
       "      <td>NaN</td>\n",
       "      <td>B00013</td>\n",
       "    </tr>\n",
       "    <tr>\n",
       "      <th>3</th>\n",
       "      <td>B00037</td>\n",
       "      <td>2021-01-01 00:13:09</td>\n",
       "      <td>2021-01-01 00:21:26</td>\n",
       "      <td>NaN</td>\n",
       "      <td>72.0</td>\n",
       "      <td>NaN</td>\n",
       "      <td>B00037</td>\n",
       "    </tr>\n",
       "    <tr>\n",
       "      <th>4</th>\n",
       "      <td>B00037</td>\n",
       "      <td>2021-01-01 00:38:31</td>\n",
       "      <td>2021-01-01 00:53:44</td>\n",
       "      <td>NaN</td>\n",
       "      <td>61.0</td>\n",
       "      <td>NaN</td>\n",
       "      <td>B00037</td>\n",
       "    </tr>\n",
       "  </tbody>\n",
       "</table>\n",
       "</div>"
      ],
      "text/plain": [
       "  dispatching_base_num     pickup_datetime    dropOff_datetime  PUlocationID  \\\n",
       "0               B00009 2021-01-01 00:27:00 2021-01-01 00:44:00           NaN   \n",
       "1               B00009 2021-01-01 00:50:00 2021-01-01 01:07:00           NaN   \n",
       "2               B00013 2021-01-01 00:01:00 2021-01-01 01:51:00           NaN   \n",
       "3               B00037 2021-01-01 00:13:09 2021-01-01 00:21:26           NaN   \n",
       "4               B00037 2021-01-01 00:38:31 2021-01-01 00:53:44           NaN   \n",
       "\n",
       "   DOlocationID  SR_Flag Affiliated_base_number  \n",
       "0           NaN      NaN                 B00009  \n",
       "1           NaN      NaN                 B00009  \n",
       "2           NaN      NaN                 B00013  \n",
       "3          72.0      NaN                 B00037  \n",
       "4          61.0      NaN                 B00037  "
      ]
     },
     "execution_count": 3,
     "metadata": {},
     "output_type": "execute_result"
    }
   ],
   "source": [
    "jan_df.head()"
   ]
  },
  {
   "cell_type": "code",
   "execution_count": 4,
   "id": "c5dff1e1",
   "metadata": {},
   "outputs": [
    {
     "data": {
      "text/html": [
       "<div>\n",
       "<style scoped>\n",
       "    .dataframe tbody tr th:only-of-type {\n",
       "        vertical-align: middle;\n",
       "    }\n",
       "\n",
       "    .dataframe tbody tr th {\n",
       "        vertical-align: top;\n",
       "    }\n",
       "\n",
       "    .dataframe thead th {\n",
       "        text-align: right;\n",
       "    }\n",
       "</style>\n",
       "<table border=\"1\" class=\"dataframe\">\n",
       "  <thead>\n",
       "    <tr style=\"text-align: right;\">\n",
       "      <th></th>\n",
       "      <th>dispatching_base_num</th>\n",
       "      <th>pickup_datetime</th>\n",
       "      <th>dropOff_datetime</th>\n",
       "      <th>PUlocationID</th>\n",
       "      <th>DOlocationID</th>\n",
       "      <th>SR_Flag</th>\n",
       "      <th>Affiliated_base_number</th>\n",
       "    </tr>\n",
       "  </thead>\n",
       "  <tbody>\n",
       "    <tr>\n",
       "      <th>0</th>\n",
       "      <td>B00013</td>\n",
       "      <td>2021-02-01 00:01:00</td>\n",
       "      <td>2021-02-01 01:33:00</td>\n",
       "      <td>NaN</td>\n",
       "      <td>NaN</td>\n",
       "      <td>NaN</td>\n",
       "      <td>B00014</td>\n",
       "    </tr>\n",
       "    <tr>\n",
       "      <th>1</th>\n",
       "      <td>B00021</td>\n",
       "      <td>2021-02-01 00:55:40</td>\n",
       "      <td>2021-02-01 01:06:20</td>\n",
       "      <td>173.0</td>\n",
       "      <td>82.0</td>\n",
       "      <td>NaN</td>\n",
       "      <td>B00021</td>\n",
       "    </tr>\n",
       "    <tr>\n",
       "      <th>2</th>\n",
       "      <td>B00021</td>\n",
       "      <td>2021-02-01 00:14:03</td>\n",
       "      <td>2021-02-01 00:28:37</td>\n",
       "      <td>173.0</td>\n",
       "      <td>56.0</td>\n",
       "      <td>NaN</td>\n",
       "      <td>B00021</td>\n",
       "    </tr>\n",
       "    <tr>\n",
       "      <th>3</th>\n",
       "      <td>B00021</td>\n",
       "      <td>2021-02-01 00:27:48</td>\n",
       "      <td>2021-02-01 00:35:45</td>\n",
       "      <td>82.0</td>\n",
       "      <td>129.0</td>\n",
       "      <td>NaN</td>\n",
       "      <td>B00021</td>\n",
       "    </tr>\n",
       "    <tr>\n",
       "      <th>4</th>\n",
       "      <td>B00037</td>\n",
       "      <td>2021-02-01 00:12:50</td>\n",
       "      <td>2021-02-01 00:26:38</td>\n",
       "      <td>NaN</td>\n",
       "      <td>225.0</td>\n",
       "      <td>NaN</td>\n",
       "      <td>B00037</td>\n",
       "    </tr>\n",
       "  </tbody>\n",
       "</table>\n",
       "</div>"
      ],
      "text/plain": [
       "  dispatching_base_num     pickup_datetime    dropOff_datetime  PUlocationID  \\\n",
       "0               B00013 2021-02-01 00:01:00 2021-02-01 01:33:00           NaN   \n",
       "1      B00021          2021-02-01 00:55:40 2021-02-01 01:06:20         173.0   \n",
       "2      B00021          2021-02-01 00:14:03 2021-02-01 00:28:37         173.0   \n",
       "3      B00021          2021-02-01 00:27:48 2021-02-01 00:35:45          82.0   \n",
       "4               B00037 2021-02-01 00:12:50 2021-02-01 00:26:38           NaN   \n",
       "\n",
       "   DOlocationID  SR_Flag Affiliated_base_number  \n",
       "0           NaN      NaN                 B00014  \n",
       "1          82.0      NaN        B00021           \n",
       "2          56.0      NaN        B00021           \n",
       "3         129.0      NaN        B00021           \n",
       "4         225.0      NaN                 B00037  "
      ]
     },
     "execution_count": 4,
     "metadata": {},
     "output_type": "execute_result"
    }
   ],
   "source": [
    "feb_df.head()"
   ]
  },
  {
   "cell_type": "code",
   "execution_count": 5,
   "id": "b60be096",
   "metadata": {},
   "outputs": [
    {
     "name": "stdout",
     "output_type": "stream",
     "text": [
      "Number of records in January dataset is 1154112\n"
     ]
    }
   ],
   "source": [
    "print(f\"Number of records in January dataset is {len(jan_df)}\")"
   ]
  },
  {
   "cell_type": "markdown",
   "id": "f9559904",
   "metadata": {},
   "source": [
    "### Question 2"
   ]
  },
  {
   "cell_type": "code",
   "execution_count": 6,
   "id": "7277fd5b",
   "metadata": {},
   "outputs": [
    {
     "name": "stdout",
     "output_type": "stream",
     "text": [
      "Average trip (in minutes) for January dataset is 19.167224093791006\n"
     ]
    }
   ],
   "source": [
    "jan_df[\"duration\"] = jan_df[\"dropOff_datetime\"] - jan_df[\"pickup_datetime\"]\n",
    "jan_df[\"duration\"] = jan_df[\"duration\"].dt.total_seconds()/60\n",
    "\n",
    "\n",
    "print(f\"Average trip (in minutes) for January dataset is {jan_df['duration'].mean()}\")"
   ]
  },
  {
   "cell_type": "markdown",
   "id": "c9730b44",
   "metadata": {},
   "source": [
    "### Data Preparation"
   ]
  },
  {
   "cell_type": "code",
   "execution_count": 15,
   "id": "6dfd6e9d",
   "metadata": {
    "scrolled": false
   },
   "outputs": [
    {
     "data": {
      "image/png": "[encoded data removed]",
      "text/plain": [
       "<Figure size 1440x504 with 2 Axes>"
      ]
     },
     "metadata": {
      "needs_background": "light"
     },
     "output_type": "display_data"
    }
   ],
   "source": [
    "# fig,ax = plt.subplots(figsize = (20,7), ncols=2)\n",
    "\n",
    "# sns.histplot(x=\"duration\",data=jan_df,kde=True,ax=ax[0]);\n",
    "# sns.boxplot(x=\"duration\",data=jan_df,ax=ax[1]);"
   ]
  },
  {
   "cell_type": "code",
   "execution_count": 19,
   "id": "39dd1239",
   "metadata": {},
   "outputs": [
    {
     "name": "stdout",
     "output_type": "stream",
     "text": [
      "Number of records dropped is 44286\n"
     ]
    }
   ],
   "source": [
    "condition = (jan_df[\"duration\"] >= 1) & (jan_df[\"duration\"] <= 60)\n",
    "new_jan_df = jan_df[condition].reset_index(drop=True)\n",
    "\n",
    "print(f\"Number of records dropped is {len(jan_df)-len(new_jan_df)}\")"
   ]
  },
  {
   "cell_type": "markdown",
   "id": "8acd4ef9",
   "metadata": {},
   "source": [
    "### Question 3"
   ]
  },
  {
   "cell_type": "code",
   "execution_count": 26,
   "id": "9475e5a9",
   "metadata": {},
   "outputs": [
    {
     "name": "stdout",
     "output_type": "stream",
     "text": [
      "Percent of Pickup Location empty is 83.52732770722618\n"
     ]
    }
   ],
   "source": [
    "new_jan_df = new_jan_df[[\"PUlocationID\",\"DOlocationID\",\"duration\"]]\n",
    "\n",
    "print(f\"Percent of Pickup Location empty is {(new_jan_df.PUlocationID.isna().sum()/len(new_jan_df.PUlocationID)*100)}\")\n",
    "\n",
    "new_jan_df.fillna(-1,inplace=True)"
   ]
  },
  {
   "cell_type": "markdown",
   "id": "5d03447b",
   "metadata": {},
   "source": [
    "### Question 4"
   ]
  },
  {
   "cell_type": "code",
   "execution_count": 32,
   "id": "4e1591ae",
   "metadata": {},
   "outputs": [
    {
     "data": {
      "text/plain": [
       "PUlocationID     object\n",
       "DOlocationID     object\n",
       "duration        float64\n",
       "dtype: object"
      ]
     },
     "execution_count": 32,
     "metadata": {},
     "output_type": "execute_result"
    }
   ],
   "source": [
    "new_jan_df.PUlocationID = new_jan_df.PUlocationID.astype(\"str\")\n",
    "new_jan_df.DOlocationID = new_jan_df.DOlocationID.astype(\"str\")\n",
    "\n",
    "new_jan_df.dtypes"
   ]
  },
  {
   "cell_type": "code",
   "execution_count": 35,
   "id": "538e55e6",
   "metadata": {},
   "outputs": [
    {
     "data": {
      "text/html": [
       "<div>\n",
       "<style scoped>\n",
       "    .dataframe tbody tr th:only-of-type {\n",
       "        vertical-align: middle;\n",
       "    }\n",
       "\n",
       "    .dataframe tbody tr th {\n",
       "        vertical-align: top;\n",
       "    }\n",
       "\n",
       "    .dataframe thead th {\n",
       "        text-align: right;\n",
       "    }\n",
       "</style>\n",
       "<table border=\"1\" class=\"dataframe\">\n",
       "  <thead>\n",
       "    <tr style=\"text-align: right;\">\n",
       "      <th></th>\n",
       "      <th>PUlocationID</th>\n",
       "      <th>DOlocationID</th>\n",
       "      <th>duration</th>\n",
       "    </tr>\n",
       "  </thead>\n",
       "  <tbody>\n",
       "    <tr>\n",
       "      <th>0</th>\n",
       "      <td>-1.0</td>\n",
       "      <td>-1.0</td>\n",
       "      <td>17.000000</td>\n",
       "    </tr>\n",
       "    <tr>\n",
       "      <th>1</th>\n",
       "      <td>-1.0</td>\n",
       "      <td>-1.0</td>\n",
       "      <td>17.000000</td>\n",
       "    </tr>\n",
       "    <tr>\n",
       "      <th>2</th>\n",
       "      <td>-1.0</td>\n",
       "      <td>72.0</td>\n",
       "      <td>8.283333</td>\n",
       "    </tr>\n",
       "    <tr>\n",
       "      <th>3</th>\n",
       "      <td>-1.0</td>\n",
       "      <td>61.0</td>\n",
       "      <td>15.216667</td>\n",
       "    </tr>\n",
       "    <tr>\n",
       "      <th>4</th>\n",
       "      <td>-1.0</td>\n",
       "      <td>71.0</td>\n",
       "      <td>9.050000</td>\n",
       "    </tr>\n",
       "  </tbody>\n",
       "</table>\n",
       "</div>"
      ],
      "text/plain": [
       "  PUlocationID DOlocationID   duration\n",
       "0         -1.0         -1.0  17.000000\n",
       "1         -1.0         -1.0  17.000000\n",
       "2         -1.0         72.0   8.283333\n",
       "3         -1.0         61.0  15.216667\n",
       "4         -1.0         71.0   9.050000"
      ]
     },
     "execution_count": 35,
     "metadata": {},
     "output_type": "execute_result"
    }
   ],
   "source": [
    "new_jan_df.head()"
   ]
  },
  {
   "cell_type": "code",
   "execution_count": 39,
   "id": "b5c019df",
   "metadata": {},
   "outputs": [
    {
     "name": "stdout",
     "output_type": "stream",
     "text": [
      "Dimensionality of the matrix is 525\n"
     ]
    }
   ],
   "source": [
    "dict_vectorizer = DictVectorizer()\n",
    "\n",
    "jan_dict = new_jan_df.drop(\"duration\",1).to_dict(orient=\"records\")\n",
    "X_train = dict_vectorizer.fit_transform(jan_dict)\n",
    "y_train = new_jan_df[\"duration\"]\n",
    "\n",
    "print(f\"Dimensionality of the matrix is {X_train.shape[1]}\")"
   ]
  },
  {
   "cell_type": "markdown",
   "id": "81253c69",
   "metadata": {},
   "source": [
    "### Question 5"
   ]
  },
  {
   "cell_type": "code",
   "execution_count": 40,
   "id": "6fb0f030",
   "metadata": {},
   "outputs": [
    {
     "name": "stdout",
     "output_type": "stream",
     "text": [
      "RMSE score on train dataset is 10.528519433270043\n"
     ]
    }
   ],
   "source": [
    "model = LinearRegression()\n",
    "model.fit(X_train,y_train)\n",
    "\n",
    "train_preds = model.predict(X_train)\n",
    "print(f\"RMSE score on train dataset is {mean_squared_error(y_train,train_preds,squared=False)}\")"
   ]
  },
  {
   "cell_type": "markdown",
   "id": "74b48ae2",
   "metadata": {},
   "source": [
    "### Question 6"
   ]
  },
  {
   "cell_type": "code",
   "execution_count": 43,
   "id": "afa48578",
   "metadata": {},
   "outputs": [
    {
     "name": "stdout",
     "output_type": "stream",
     "text": [
      "RMSE score on test dataset is 11.01428568518046\n"
     ]
    }
   ],
   "source": [
    "feb_df[\"duration\"] = feb_df[\"dropOff_datetime\"] - feb_df[\"pickup_datetime\"]\n",
    "feb_df[\"duration\"] = feb_df[\"duration\"].dt.total_seconds()/60\n",
    "\n",
    "condition = (feb_df[\"duration\"] >= 1) & (feb_df[\"duration\"] <= 60)\n",
    "new_feb_df = feb_df[condition].reset_index(drop=True)\n",
    "\n",
    "new_feb_df = new_feb_df[[\"PUlocationID\",\"DOlocationID\",\"duration\"]]\n",
    "new_feb_df.fillna(-1,inplace=True)\n",
    "\n",
    "new_feb_df.PUlocationID = new_feb_df.PUlocationID.astype(\"str\")\n",
    "new_feb_df.DOlocationID = new_feb_df.DOlocationID.astype(\"str\")\n",
    "\n",
    "feb_dict = new_feb_df.drop(\"duration\",1).to_dict(orient=\"records\")\n",
    "X_test = dict_vectorizer.transform(feb_dict)\n",
    "y_test = new_feb_df[\"duration\"]\n",
    "\n",
    "test_preds = model.predict(X_test)\n",
    "print(f\"RMSE score on test dataset is {mean_squared_error(y_test,test_preds,squared=False)}\")"
   ]
  }
 ],
 "metadata": {
  "kernelspec": {
   "display_name": "Python 3 (ipykernel)",
   "language": "python",
   "name": "python3"
  },
  "language_info": {
   "codemirror_mode": {
    "name": "ipython",
    "version": 3
   },
   "file_extension": ".py",
   "mimetype": "text/x-python",
   "name": "python",
   "nbconvert_exporter": "python",
   "pygments_lexer": "ipython3",
   "version": "3.8.8"
  }
 },
 "nbformat": 4,
 "nbformat_minor": 5
}
